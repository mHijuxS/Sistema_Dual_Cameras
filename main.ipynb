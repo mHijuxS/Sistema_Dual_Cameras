{
 "cells": [
  {
   "cell_type": "code",
   "execution_count": 8,
   "metadata": {},
   "outputs": [],
   "source": [
    "import cv2\n",
    "import os\n",
    "import glob\n",
    "import numpy as np"
   ]
  },
  {
   "attachments": {},
   "cell_type": "markdown",
   "metadata": {},
   "source": [
    "# Obtenção das fotos do tabuleiro para calibração das cameras e consequentemente obtenção dos POI"
   ]
  },
  {
   "cell_type": "code",
   "execution_count": 14,
   "metadata": {},
   "outputs": [],
   "source": [
    "# Define the key to capture the images\n",
    "capture_key = ord('c')  # Change it to the desired key\n",
    "\n",
    "# Define the camera indices (0 and 1 for the first and second cameras)\n",
    "camera_indices = [1, 2]\n",
    "\n",
    "\n",
    "# Create directories for saving images\n",
    "image_dirs = ['camera1_images', 'camera2_images']\n",
    "for dir_name in image_dirs:\n",
    "    os.makedirs(dir_name, exist_ok=True)\n",
    "    os.makedirs(dir_name + '_calibrated', exist_ok=True)\n",
    "\n",
    "# Initialize the cameras\n",
    "cameras = []\n",
    "for index in camera_indices:\n",
    "    camera = cv2.VideoCapture(index)\n",
    "    cameras.append(camera)\n",
    "\n",
    "counter = 0\n",
    "# Start capturing images\n",
    "while True:\n",
    "    # Read frames from each camera\n",
    "    frames = []\n",
    "    for camera in cameras:\n",
    "        ret, frame = camera.read()\n",
    "        frames.append(frame)\n",
    "\n",
    "    # Display the frames from each camera\n",
    "    for i, frame in enumerate(frames):\n",
    "        cv2.imshow(f'Camera {i+1}', frame)\n",
    "\n",
    "    # Check if the capture key is pressed\n",
    "    key = cv2.waitKey(1)\n",
    "    if key == capture_key:\n",
    "        counter+=1\n",
    "        # Save the images to respective folders\n",
    "        for i, frame in enumerate(frames):\n",
    "            image_path = os.path.join(image_dirs[i], f'image_{i+1}_{counter}.jpg')\n",
    "            cv2.imwrite(image_path, frame)\n",
    "            print(f'Image saved: {image_path}')\n",
    "    # Check if the 'q' key is pressed to quit the program\n",
    "    if key == ord('q'):\n",
    "        break\n",
    "\n",
    "# Release the cameras and close windows\n",
    "for camera in cameras:\n",
    "    camera.release()\n",
    "cv2.destroyAllWindows()"
   ]
  },
  {
   "attachments": {},
   "cell_type": "markdown",
   "metadata": {},
   "source": [
    "# Obtenção dos POI"
   ]
  },
  {
   "cell_type": "code",
   "execution_count": 31,
   "metadata": {},
   "outputs": [],
   "source": [
    "def draw_chess_write(camera):\n",
    "  # termination criteria\n",
    "  criteria = (cv2.TERM_CRITERIA_EPS + cv2.TERM_CRITERIA_MAX_ITER, 30, 0.001)\n",
    "  # prepare object points, like (0,0,0), (1,0,0), (2,0,0) ....,(6,5,0)\n",
    "  objp = np.zeros((6*8,3), np.float32)\n",
    "  objp[:,:2] = np.mgrid[0:8,0:6].T.reshape(-1,2)\n",
    "  # Arrays to store object points and image points from all the images.\n",
    "  objpoints = [] # 3d point in real world space\n",
    "  imgpoints = [] # 2d points in image plane.\n",
    "  images = glob.glob(f'./camera{camera}_images/*.jpg')\n",
    "  i=1\n",
    "  for fname in images:\n",
    "    \n",
    "    img = cv2.imread(fname)\n",
    "    gray = cv2.cvtColor(img, cv2.COLOR_BGR2GRAY)\n",
    "    # Find the chess board corners\n",
    "    ret, corners = cv2.findChessboardCorners(gray, (8,6), None)\n",
    "    # If found, add object points, image points (after refining them)\n",
    "    if ret == True:\n",
    "        name = i\n",
    "        objpoints.append(objp)\n",
    "        corners2 = cv2.cornerSubPix(gray,corners, (11,11), (-1,-1), criteria)\n",
    "        imgpoints.append(corners2)\n",
    "        # Draw and display the corners\n",
    "        cv2.drawChessboardCorners(img, (8,6), corners2, ret)\n",
    "        cv2.imshow('img',img)\n",
    "        cv2.imwrite(f'./camera{camera}_images_calibrated/calib_' + str(name) + '_calib.jpg',img)\n",
    "        cv2.waitKey(500)\n",
    "        i+=1\n",
    "        \n",
    "  cv2.destroyAllWindows()\n",
    "  return objpoints, imgpoints, gray"
   ]
  },
  {
   "cell_type": "code",
   "execution_count": 32,
   "metadata": {},
   "outputs": [],
   "source": [
    "objpoints_1,imgpoints_1,gray_1 = draw_chess_write('1')\n",
    "objpoints_2,imgpoints_2,gray_2 = draw_chess_write('2')"
   ]
  },
  {
   "cell_type": "code",
   "execution_count": 33,
   "metadata": {},
   "outputs": [],
   "source": [
    "ret_1, mtx_1, dist_1, rvecs_1, tvecs_1 = cv2.calibrateCamera(objpoints_1, imgpoints_1, gray_1.shape[::-1], None, None)\n",
    "ret_2, mtx_2, dist_2, rvecs_2, tvecs_2 = cv2.calibrateCamera(objpoints_2, imgpoints_2, gray_2.shape[::-1], None, None)"
   ]
  },
  {
   "cell_type": "code",
   "execution_count": 39,
   "metadata": {},
   "outputs": [],
   "source": [
    "def get_poi(mtx_1):\n",
    "    fx = mtx_1[0][0]\n",
    "    fy = mtx_1[1][1]\n",
    "    cx = mtx_1[0][2]\n",
    "    cy = mtx_1[1][2]\n",
    "    return fx,fy,cx,cy"
   ]
  },
  {
   "cell_type": "code",
   "execution_count": 43,
   "metadata": {},
   "outputs": [],
   "source": [
    "poi_1 = get_poi(mtx_1)\n",
    "poi_2 = get_poi(mtx_2)"
   ]
  },
  {
   "cell_type": "code",
   "execution_count": 44,
   "metadata": {},
   "outputs": [
    {
     "data": {
      "text/plain": [
       "(1003.4126195181994, 1003.7290709255163, 242.6735977649237, 224.61216308299183)"
      ]
     },
     "execution_count": 44,
     "metadata": {},
     "output_type": "execute_result"
    }
   ],
   "source": [
    "poi_1"
   ]
  },
  {
   "cell_type": "code",
   "execution_count": 45,
   "metadata": {},
   "outputs": [
    {
     "data": {
      "text/plain": [
       "(1016.3303474820608, 1018.7269695187592, 292.82651319821827, 247.3039387822884)"
      ]
     },
     "execution_count": 45,
     "metadata": {},
     "output_type": "execute_result"
    }
   ],
   "source": [
    "poi_2"
   ]
  },
  {
   "attachments": {},
   "cell_type": "markdown",
   "metadata": {},
   "source": [
    "# Obtenção dos POR"
   ]
  },
  {
   "cell_type": "code",
   "execution_count": 46,
   "metadata": {},
   "outputs": [],
   "source": [
    "width = cv2.imread('./camera1_images/image_1_1.jpg').shape[1]\n",
    "height = cv2.imread('./camera1_images/image_1_1.jpg').shape[0]"
   ]
  },
  {
   "cell_type": "code",
   "execution_count": 49,
   "metadata": {},
   "outputs": [],
   "source": [
    "stereocalibration_flags = cv2.CALIB_FIX_INTRINSIC\n",
    "ret, CM1, dist1, CM2, dist2, R, T, E, F = cv2.stereoCalibrate(objpoints_1, imgpoints_1, imgpoints_2, mtx_1, dist_1,\n",
    "mtx_2, dist_2, (width, height), criteria = (cv2.TERM_CRITERIA_EPS + cv2.TERM_CRITERIA_MAX_ITER, 100, 0.0001), flags = stereocalibration_flags)"
   ]
  },
  {
   "cell_type": "code",
   "execution_count": 60,
   "metadata": {},
   "outputs": [],
   "source": [
    "boresight = R\n",
    "lever_arm = T"
   ]
  },
  {
   "cell_type": "code",
   "execution_count": 65,
   "metadata": {},
   "outputs": [
    {
     "name": "stdout",
     "output_type": "stream",
     "text": [
      "[[ 0.99326416  0.11581963  0.00348201]\n",
      " [-0.0025031   0.05149064 -0.99867034]\n",
      " [-0.11584492  0.99193474  0.05143371]]\n"
     ]
    }
   ],
   "source": [
    "print(boresight)"
   ]
  },
  {
   "cell_type": "code",
   "execution_count": 64,
   "metadata": {},
   "outputs": [
    {
     "name": "stdout",
     "output_type": "stream",
     "text": [
      "[[ 0.89447156]\n",
      " [21.63204216]\n",
      " [20.49912873]]\n"
     ]
    }
   ],
   "source": [
    "print(lever_arm)"
   ]
  }
 ],
 "metadata": {
  "kernelspec": {
   "display_name": "Python 3",
   "language": "python",
   "name": "python3"
  },
  "language_info": {
   "codemirror_mode": {
    "name": "ipython",
    "version": 3
   },
   "file_extension": ".py",
   "mimetype": "text/x-python",
   "name": "python",
   "nbconvert_exporter": "python",
   "pygments_lexer": "ipython3",
   "version": "3.11.1"
  },
  "orig_nbformat": 4
 },
 "nbformat": 4,
 "nbformat_minor": 2
}
