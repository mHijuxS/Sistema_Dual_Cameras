{
 "cells": [
  {
   "attachments": {},
   "cell_type": "markdown",
   "metadata": {},
   "source": [
    "# Importando as bibliotecas necessárias"
   ]
  },
  {
   "cell_type": "code",
   "execution_count": 2,
   "metadata": {},
   "outputs": [],
   "source": [
    "import cv2\n",
    "import os\n",
    "import glob\n",
    "import numpy as np"
   ]
  },
  {
   "attachments": {},
   "cell_type": "markdown",
   "metadata": {},
   "source": [
    "# Obtenção das fotos do tabuleiro para calibração das cameras e consequentemente obtenção dos POI"
   ]
  },
  {
   "cell_type": "code",
   "execution_count": 13,
   "metadata": {},
   "outputs": [],
   "source": [
    "# Define the key to capture the images\n",
    "capture_key = ord('c')  # Change it to the desired key\n",
    "\n",
    "# Define the camera indices (0 and 1 for the first and second cameras)\n",
    "camera_indices = [1, 2]\n",
    "\n",
    "\n",
    "# Create directories for saving images\n",
    "image_dirs = ['camera1_images', 'camera2_images']\n",
    "for dir_name in image_dirs:\n",
    "    os.makedirs(dir_name, exist_ok=True)\n",
    "    os.makedirs(dir_name + '_calibrated', exist_ok=True)\n",
    "\n",
    "# Initialize the cameras\n",
    "cameras = []\n",
    "for index in camera_indices:\n",
    "    camera = cv2.VideoCapture(index)\n",
    "    cameras.append(camera)\n",
    "\n",
    "counter = 0\n",
    "# Start capturing images\n",
    "while True:\n",
    "    # Read frames from each camera\n",
    "    frames = []\n",
    "    for camera in cameras:\n",
    "        ret, frame = camera.read()\n",
    "        frames.append(frame)\n",
    "\n",
    "    # Display the frames from each camera\n",
    "    for i, frame in enumerate(frames):\n",
    "        cv2.imshow(f'Camera {i+1}', frame)\n",
    "\n",
    "    # Check if the capture key is pressed\n",
    "    key = cv2.waitKey(1)\n",
    "    if key == capture_key:\n",
    "        counter+=1\n",
    "        # Save the images to respective folders\n",
    "        for i, frame in enumerate(frames):\n",
    "            image_path = os.path.join(image_dirs[i], f'image_{i+1}_{counter}.jpg')\n",
    "            cv2.imwrite(image_path, frame)\n",
    "            print(f'Image saved: {image_path}')\n",
    "    # Check if the 'q' key is pressed to quit the program\n",
    "    if key == ord('q'):\n",
    "        break\n",
    "\n",
    "# Release the cameras and close windows\n",
    "for camera in cameras:\n",
    "    camera.release()\n",
    "cv2.destroyAllWindows()"
   ]
  },
  {
   "cell_type": "code",
   "execution_count": 110,
   "metadata": {},
   "outputs": [
    {
     "name": "stdout",
     "output_type": "stream",
     "text": [
      "Image saved: camera_1_2_frames\\image_1_1.jpg\n",
      "Image saved: camera_1_2_frames\\image_2_1.jpg\n",
      "Image saved: camera_1_2_frames\\image_1_2.jpg\n",
      "Image saved: camera_1_2_frames\\image_2_2.jpg\n",
      "Image saved: camera_1_2_frames\\image_1_3.jpg\n",
      "Image saved: camera_1_2_frames\\image_2_3.jpg\n",
      "Image saved: camera_1_2_frames\\image_1_4.jpg\n",
      "Image saved: camera_1_2_frames\\image_2_4.jpg\n",
      "Image saved: camera_1_2_frames\\image_1_5.jpg\n",
      "Image saved: camera_1_2_frames\\image_2_5.jpg\n",
      "Image saved: camera_1_2_frames\\image_1_6.jpg\n",
      "Image saved: camera_1_2_frames\\image_2_6.jpg\n",
      "Image saved: camera_1_2_frames\\image_1_7.jpg\n",
      "Image saved: camera_1_2_frames\\image_2_7.jpg\n",
      "Image saved: camera_1_2_frames\\image_1_8.jpg\n",
      "Image saved: camera_1_2_frames\\image_2_8.jpg\n",
      "Image saved: camera_1_2_frames\\image_1_9.jpg\n",
      "Image saved: camera_1_2_frames\\image_2_9.jpg\n",
      "Image saved: camera_1_2_frames\\image_1_10.jpg\n",
      "Image saved: camera_1_2_frames\\image_2_10.jpg\n"
     ]
    }
   ],
   "source": [
    "def same_pict():\n",
    "    # Define the key to capture the images\n",
    "    capture_key = ord('c')  # Change it to the desired key\n",
    "\n",
    "    # Define the camera indices (0 and 1 for the first and second cameras)\n",
    "    camera_indices = [1, 2]\n",
    "\n",
    "\n",
    "    # Create directories for saving images\n",
    "    image_dirs = 'camera_1_2_frames'\n",
    "    os.makedirs(image_dirs, exist_ok=True)\n",
    "\n",
    "    # Initialize the cameras\n",
    "    cameras = []\n",
    "    for index in camera_indices:\n",
    "        camera = cv2.VideoCapture(index)\n",
    "        cameras.append(camera)\n",
    "\n",
    "    counter = 0\n",
    "    # Start capturing images\n",
    "    while True:\n",
    "        # Read frames from each camera\n",
    "        frames = []\n",
    "        for camera in cameras:\n",
    "            ret, frame = camera.read()\n",
    "            frames.append(frame)\n",
    "\n",
    "        # Display the frames from each camera\n",
    "        for i, frame in enumerate(frames):\n",
    "            cv2.imshow(f'Camera {i+1}', frame)\n",
    "\n",
    "        # Check if the capture key is pressed\n",
    "        key = cv2.waitKey(1)\n",
    "        if key == capture_key:\n",
    "            counter+=1\n",
    "            # Save the images to respective folders\n",
    "            for i, frame in enumerate(frames):\n",
    "                image_path = os.path.join(image_dirs, f'image_{i+1}_{counter}.jpg')\n",
    "                cv2.imwrite(image_path, frame)\n",
    "                print(f'Image saved: {image_path}')\n",
    "        # Check if the 'q' key is pressed to quit the program\n",
    "        if key == ord('q'):\n",
    "            break\n",
    "\n",
    "    # Release the cameras and close windows\n",
    "    for camera in cameras:\n",
    "        camera.release()\n",
    "    cv2.destroyAllWindows()\n",
    "same_pict()"
   ]
  },
  {
   "attachments": {},
   "cell_type": "markdown",
   "metadata": {},
   "source": [
    "# Obtenção dos POI"
   ]
  },
  {
   "cell_type": "code",
   "execution_count": 6,
   "metadata": {},
   "outputs": [],
   "source": [
    "def draw_chess_write(camera):\n",
    "  # termination criteria\n",
    "  criteria = (cv2.TERM_CRITERIA_EPS + cv2.TERM_CRITERIA_MAX_ITER, 100, 0.001)\n",
    "  # prepare object points, like (0,0,0), (1,0,0), (2,0,0) ....,(6,5,0)\n",
    "  world_scaling = 2.8\n",
    "  objp = np.zeros((6*8,3), np.float32)\n",
    "  objp[:,:2] = np.mgrid[0:8,0:6].T.reshape(-1,2)\n",
    "  objp = world_scaling* objp\n",
    "  # Arrays to store object points and image points from all the images.\n",
    "  objpoints = [] # 3d point in real world space\n",
    "  imgpoints = [] # 2d points in image plane.\n",
    "  images = glob.glob(f'./camera{camera}_images/*.jpg')\n",
    "  i=1\n",
    "  for fname in images:\n",
    "    \n",
    "    img = cv2.imread(fname)\n",
    "    gray = cv2.cvtColor(img, cv2.COLOR_BGR2GRAY)\n",
    "    # Find the chess board corners\n",
    "    ret, corners = cv2.findChessboardCorners(gray, (8,6), None)\n",
    "    # If found, add object points, image points (after refining them)\n",
    "    if ret == True:\n",
    "        name = i\n",
    "        objpoints.append(objp)\n",
    "        corners2 = cv2.cornerSubPix(gray,corners, (11,11), (-1,-1), criteria)\n",
    "        imgpoints.append(corners2)\n",
    "        # Draw and display the corners\n",
    "        cv2.drawChessboardCorners(img, (8,6), corners2, ret)\n",
    "        cv2.imshow('img',img)\n",
    "        cv2.imwrite(f'./camera{camera}_images_calibrated/calib_' + str(name) + '_calib.jpg',img)\n",
    "        cv2.waitKey(500)\n",
    "        i+=1\n",
    "        \n",
    "  cv2.destroyAllWindows()\n",
    "  return objpoints, imgpoints, gray\n",
    "\n",
    "def stereo_calibrate(mtx0, dist0, mtx1, dist1, frames_prefix_c0, frames_prefix_c1):\n",
    "    #read the synched frames\n",
    "    c0_images_names = sorted(glob.glob(frames_prefix_c0))\n",
    "    c1_images_names = sorted(glob.glob(frames_prefix_c1))\n",
    "\n",
    "    #open images\n",
    "    c0_images = [cv2.imread(imname, 1) for imname in c0_images_names]\n",
    "    c1_images = [cv2.imread(imname, 1) for imname in c1_images_names]\n",
    "\n",
    "    #change this if stereo calibration not good.\n",
    "    criteria = (cv2.TERM_CRITERIA_EPS + cv2.TERM_CRITERIA_MAX_ITER, 100, 0.001)\n",
    "\n",
    "    #calibration pattern settings\n",
    "    rows = 8\n",
    "    columns = 6\n",
    "    world_scaling = 2.8\n",
    "\n",
    "    #coordinates of squares in the checkerboard world space\n",
    "    objp = np.zeros((rows*columns,3), np.float32)\n",
    "    objp[:,:2] = np.mgrid[0:rows,0:columns].T.reshape(-1,2)\n",
    "    objp = world_scaling* objp\n",
    "\n",
    "    #frame dimensions. Frames should be the same size.\n",
    "    width = c0_images[0].shape[1]\n",
    "    height = c0_images[0].shape[0]\n",
    "\n",
    "    #Pixel coordinates of checkerboards\n",
    "    imgpoints_left = [] # 2d points in image plane.\n",
    "    imgpoints_right = []\n",
    "\n",
    "    #coordinates of the checkerboard in checkerboard world space.\n",
    "    objpoints = [] # 3d point in real world space\n",
    "\n",
    "    for frame0, frame1 in zip(c0_images, c1_images):\n",
    "        gray1 = cv2.cvtColor(frame0, cv2.COLOR_BGR2GRAY)\n",
    "        gray2 = cv2.cvtColor(frame1, cv2.COLOR_BGR2GRAY)\n",
    "        c_ret1, corners1 = cv2.findChessboardCorners(gray1, (rows, columns), None)\n",
    "        c_ret2, corners2 = cv2.findChessboardCorners(gray2, (rows, columns), None)\n",
    "\n",
    "        if c_ret1 == True and c_ret2 == True:\n",
    "\n",
    "            corners1 = cv2.cornerSubPix(gray1, corners1, (11, 11), (-1, -1), criteria)\n",
    "            corners2 = cv2.cornerSubPix(gray2, corners2, (11, 11), (-1, -1), criteria)\n",
    "\n",
    "            p0_c1 = corners1[0,0].astype(np.int32)\n",
    "            p0_c2 = corners2[0,0].astype(np.int32)\n",
    "\n",
    "            cv2.putText(frame0, 'O', (p0_c1[0], p0_c1[1]), cv2.FONT_HERSHEY_COMPLEX, 1, (0,0,255), 1)\n",
    "            cv2.drawChessboardCorners(frame0, (rows,columns), corners1, c_ret1)\n",
    "            cv2.imshow('img', frame0)\n",
    "\n",
    "            cv2.putText(frame1, 'O', (p0_c2[0], p0_c2[1]), cv2.FONT_HERSHEY_COMPLEX, 1, (0,0,255), 1)\n",
    "            cv2.drawChessboardCorners(frame1, (rows,columns), corners2, c_ret2)\n",
    "            cv2.imshow('img2', frame1)\n",
    "            k = cv2.waitKey(0)\n",
    "\n",
    "            if k & 0xFF == ord('s'):\n",
    "                print('skipping')\n",
    "                continue\n",
    "\n",
    "            objpoints.append(objp)\n",
    "            imgpoints_left.append(corners1)\n",
    "            imgpoints_right.append(corners2)\n",
    "\n",
    "    stereocalibration_flags = cv2.CALIB_FIX_INTRINSIC\n",
    "    ret, CM1, dist0, CM2, dist1, R, T, E, F = cv2.stereoCalibrate(objpoints, imgpoints_left, imgpoints_right, mtx0, dist0,\n",
    "                                                                 mtx1, dist1, (width, height), criteria = criteria, flags = stereocalibration_flags)\n",
    "\n",
    "    cv2.destroyAllWindows()\n",
    "    return R, T\n",
    "\n",
    "def get_poi(mtx_1):\n",
    "    fx = mtx_1[0][0]\n",
    "    fy = mtx_1[1][1]\n",
    "    cx = mtx_1[0][2]\n",
    "    cy = mtx_1[1][2]\n",
    "    return fx,fy,cx,cy"
   ]
  },
  {
   "cell_type": "code",
   "execution_count": 7,
   "metadata": {},
   "outputs": [],
   "source": [
    "objpoints_1,imgpoints_1,gray_1 = draw_chess_write('1')\n",
    "objpoints_2,imgpoints_2,gray_2 = draw_chess_write('2')"
   ]
  },
  {
   "cell_type": "code",
   "execution_count": 8,
   "metadata": {},
   "outputs": [],
   "source": [
    "ret_1, mtx_1, dist_1, rvecs_1, tvecs_1 = cv2.calibrateCamera(objpoints_1, imgpoints_1, gray_1.shape[::-1], None, None)\n",
    "ret_2, mtx_2, dist_2, rvecs_2, tvecs_2 = cv2.calibrateCamera(objpoints_2, imgpoints_2, gray_2.shape[::-1], None, None)"
   ]
  },
  {
   "cell_type": "code",
   "execution_count": null,
   "metadata": {},
   "outputs": [],
   "source": [
    "frames_prefix_c0 = os.path.join('camera_1_2_frames','image_1*')\n",
    "frames_prefix_c1 = os.path.join('camera_1_2_frames','image_2*')\n",
    "R,T = stereo_calibrate(mtx_1,dist_1,mtx_2,dist_2,frames_prefix_c0,frames_prefix_c1)"
   ]
  },
  {
   "cell_type": "code",
   "execution_count": 87,
   "metadata": {},
   "outputs": [],
   "source": [
    "poi_1 = get_poi(mtx_1)\n",
    "poi_2 = get_poi(mtx_2)"
   ]
  },
  {
   "cell_type": "code",
   "execution_count": 88,
   "metadata": {},
   "outputs": [
    {
     "data": {
      "text/plain": [
       "(999.6184685265891, 997.587932339299, 217.2324828046475, 223.21015049905702)"
      ]
     },
     "execution_count": 88,
     "metadata": {},
     "output_type": "execute_result"
    }
   ],
   "source": [
    "poi_1"
   ]
  },
  {
   "cell_type": "code",
   "execution_count": 89,
   "metadata": {},
   "outputs": [
    {
     "data": {
      "text/plain": [
       "(1007.8357024349465, 1005.46347350523, 272.03062315393083, 254.10464615971662)"
      ]
     },
     "execution_count": 89,
     "metadata": {},
     "output_type": "execute_result"
    }
   ],
   "source": [
    "poi_2"
   ]
  },
  {
   "attachments": {},
   "cell_type": "markdown",
   "metadata": {},
   "source": [
    "# Obtenção dos POR"
   ]
  },
  {
   "cell_type": "code",
   "execution_count": 90,
   "metadata": {},
   "outputs": [],
   "source": [
    "width = cv2.imread('./camera1_images/image_1_1.jpg').shape[1]\n",
    "height = cv2.imread('./camera1_images/image_1_1.jpg').shape[0]"
   ]
  },
  {
   "cell_type": "code",
   "execution_count": 101,
   "metadata": {},
   "outputs": [],
   "source": [
    "boresight = R\n",
    "lever_arm = T"
   ]
  }
 ],
 "metadata": {
  "kernelspec": {
   "display_name": "Python 3",
   "language": "python",
   "name": "python3"
  },
  "language_info": {
   "codemirror_mode": {
    "name": "ipython",
    "version": 3
   },
   "file_extension": ".py",
   "mimetype": "text/x-python",
   "name": "python",
   "nbconvert_exporter": "python",
   "pygments_lexer": "ipython3",
   "version": "3.11.1"
  },
  "orig_nbformat": 4
 },
 "nbformat": 4,
 "nbformat_minor": 2
}
