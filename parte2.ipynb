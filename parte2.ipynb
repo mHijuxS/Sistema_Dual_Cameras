{
 "cells": [
  {
   "attachments": {},
   "cell_type": "markdown",
   "metadata": {},
   "source": [
    "# Geração da imagem virtual para cada par de foto tirada simultaneamente"
   ]
  },
  {
   "cell_type": "code",
   "execution_count": 1,
   "metadata": {},
   "outputs": [],
   "source": [
    "import cv2\n",
    "import numpy as np"
   ]
  },
  {
   "cell_type": "code",
   "execution_count": null,
   "metadata": {},
   "outputs": [],
   "source": [
    "# Carregar as duas imagens capturadas no mesmo instante\n",
    "img_left = cv2.imread('./camera1_images/image_1_1.jpg', 0)  # Carregar em escala de cinza\n",
    "img_right = cv2.imread('./camera2_images/image_2_1.jpg', 0)\n",
    "\n",
    "# Criar o objeto StereoSGBM para calcular a disparidade\n",
    "stereo = cv2.StereoSGBM_create(\n",
    "    minDisparity=0,  # Disparidade mínima\n",
    "    numDisparities=16,  # Número máximo de disparidades (deve ser divisível por 16)\n",
    "    blockSize=5,  # Tamanho da janela de correspondência\n",
    "    P1=8 * 3 * 5 ** 2,  # Parâmetros de suavização\n",
    "    P2=32 * 3 * 5 ** 2\n",
    ")\n",
    "\n",
    "# Calcular a disparidade\n",
    "disparity = stereo.compute(img_left, img_right)\n",
    "\n",
    "# Normalizar a disparidade para exibição\n",
    "disparity_normalized = cv2.normalize(disparity, None, alpha=0, beta=255, norm_type=cv2.NORM_MINMAX, dtype=cv2.CV_8U)\n",
    "\n",
    "# Calcular o mapa de profundidade a partir da disparidade\n",
    "focal_length = 1000  # Comprimento focal em pixels (valor aproximado)\n",
    "baseline = 23  # Distância entre as câmeras (valor aproximado)\n",
    "depth_map = focal_length * baseline / (disparity + 1e-6)\n",
    "\n",
    "# Exibir a imagem de disparidade e o mapa de profundidade\n",
    "cv2.imshow('Disparidade', disparity_normalized)\n",
    "cv2.imshow('Mapa de Profundidade', depth_map)\n",
    "cv2.waitKey(0)\n",
    "cv2.destroyAllWindows()"
   ]
  }
 ],
 "metadata": {
  "kernelspec": {
   "display_name": "Python 3",
   "language": "python",
   "name": "python3"
  },
  "language_info": {
   "codemirror_mode": {
    "name": "ipython",
    "version": 3
   },
   "file_extension": ".py",
   "mimetype": "text/x-python",
   "name": "python",
   "nbconvert_exporter": "python",
   "pygments_lexer": "ipython3",
   "version": "3.11.1"
  },
  "orig_nbformat": 4
 },
 "nbformat": 4,
 "nbformat_minor": 2
}
